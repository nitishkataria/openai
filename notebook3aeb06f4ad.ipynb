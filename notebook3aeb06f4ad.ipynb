{
 "cells": [
  {
   "cell_type": "code",
   "execution_count": 1,
   "id": "c0fb5f00",
   "metadata": {
    "_cell_guid": "bcf6145d-6475-4e95-abdb-7f1614db6fc7",
    "_uuid": "c8ee99af-1d6f-460f-a5ad-c87f3e35f095",
    "collapsed": false,
    "execution": {
     "iopub.execute_input": "2023-02-19T11:43:13.368935Z",
     "iopub.status.busy": "2023-02-19T11:43:13.368436Z",
     "iopub.status.idle": "2023-02-19T11:43:13.381474Z",
     "shell.execute_reply": "2023-02-19T11:43:13.380344Z"
    },
    "jupyter": {
     "outputs_hidden": false
    },
    "papermill": {
     "duration": 0.023286,
     "end_time": "2023-02-19T11:43:13.384029",
     "exception": false,
     "start_time": "2023-02-19T11:43:13.360743",
     "status": "completed"
    },
    "tags": []
   },
   "outputs": [],
   "source": [
    "# This Python 3 environment comes with many helpful analytics libraries installed\n",
    "# It is defined by the kaggle/python Docker image: https://github.com/kaggle/docker-python\n",
    "# For example, here's several helpful packages to load\n",
    "\n",
    "import numpy as np # linear algebra\n",
    "import pandas as pd # data processing, CSV file I/O (e.g. pd.read_csv)\n",
    "\n",
    "# Input data files are available in the read-only \"../input/\" directory\n",
    "# For example, running this (by clicking run or pressing Shift+Enter) will list all files under the input directory\n",
    "\n",
    "import os\n",
    "for dirname, _, filenames in os.walk('/kaggle/input'):\n",
    "    for filename in filenames:\n",
    "        print(os.path.join(dirname, filename))\n",
    "\n",
    "# You can write up to 20GB to the current directory (/kaggle/working/) that gets preserved as output when you create a version using \"Save & Run All\" \n",
    "# You can also write temporary files to /kaggle/temp/, but they won't be saved outside of the current session"
   ]
  },
  {
   "cell_type": "code",
   "execution_count": null,
   "id": "967bf96f",
   "metadata": {
    "_cell_guid": "024f3192-ef02-4437-b462-75eb6cd1346a",
    "_uuid": "dec0c056-ee9b-44ef-9205-2f26a801e587",
    "collapsed": false,
    "jupyter": {
     "outputs_hidden": false
    },
    "papermill": {
     "duration": 0.002008,
     "end_time": "2023-02-19T11:43:13.388671",
     "exception": false,
     "start_time": "2023-02-19T11:43:13.386663",
     "status": "completed"
    },
    "tags": []
   },
   "outputs": [],
   "source": []
  },
  {
   "cell_type": "code",
   "execution_count": 2,
   "id": "c2eae7f5",
   "metadata": {
    "_cell_guid": "d42cbfc9-aff4-475f-95e2-4ea36f96081a",
    "_uuid": "3bbce466-3959-4575-a6ac-0d92181dafde",
    "collapsed": false,
    "execution": {
     "iopub.execute_input": "2023-02-19T11:43:13.395238Z",
     "iopub.status.busy": "2023-02-19T11:43:13.394557Z",
     "iopub.status.idle": "2023-02-19T11:43:50.873799Z",
     "shell.execute_reply": "2023-02-19T11:43:50.872400Z"
    },
    "jupyter": {
     "outputs_hidden": false
    },
    "papermill": {
     "duration": 37.48581,
     "end_time": "2023-02-19T11:43:50.876669",
     "exception": false,
     "start_time": "2023-02-19T11:43:13.390859",
     "status": "completed"
    },
    "tags": []
   },
   "outputs": [
    {
     "name": "stdout",
     "output_type": "stream",
     "text": [
      "/bin/bash: /opt/conda/lib/libtinfo.so.6: no version information available (required by /bin/bash)\r\n",
      "Collecting openai\r\n",
      "  Downloading openai-0.26.5.tar.gz (55 kB)\r\n",
      "\u001b[2K     \u001b[90m━━━━━━━━━━━━━━━━━━━━━━━━━━━━━━━━━━━━━━━\u001b[0m \u001b[32m55.5/55.5 kB\u001b[0m \u001b[31m480.0 kB/s\u001b[0m eta \u001b[36m0:00:00\u001b[0m\r\n",
      "\u001b[?25h  Installing build dependencies ... \u001b[?25l-\b \b\\\b \b|\b \b/\b \b-\b \bdone\r\n",
      "\u001b[?25h  Getting requirements to build wheel ... \u001b[?25l-\b \bdone\r\n",
      "\u001b[?25h  Installing backend dependencies ... \u001b[?25l-\b \b\\\b \b|\b \bdone\r\n",
      "\u001b[?25h  Preparing metadata (pyproject.toml) ... \u001b[?25l-\b \bdone\r\n",
      "\u001b[?25hRequirement already satisfied: requests>=2.20 in /opt/conda/lib/python3.7/site-packages (from openai) (2.28.1)\r\n",
      "Requirement already satisfied: tqdm in /opt/conda/lib/python3.7/site-packages (from openai) (4.64.1)\r\n",
      "Requirement already satisfied: typing-extensions in /opt/conda/lib/python3.7/site-packages (from openai) (4.1.1)\r\n",
      "Requirement already satisfied: aiohttp in /opt/conda/lib/python3.7/site-packages (from openai) (3.8.1)\r\n",
      "Requirement already satisfied: idna<4,>=2.5 in /opt/conda/lib/python3.7/site-packages (from requests>=2.20->openai) (3.3)\r\n",
      "Requirement already satisfied: certifi>=2017.4.17 in /opt/conda/lib/python3.7/site-packages (from requests>=2.20->openai) (2022.12.7)\r\n",
      "Requirement already satisfied: urllib3<1.27,>=1.21.1 in /opt/conda/lib/python3.7/site-packages (from requests>=2.20->openai) (1.26.11)\r\n",
      "Requirement already satisfied: charset-normalizer<3,>=2 in /opt/conda/lib/python3.7/site-packages (from requests>=2.20->openai) (2.1.1)\r\n",
      "Requirement already satisfied: asynctest==0.13.0 in /opt/conda/lib/python3.7/site-packages (from aiohttp->openai) (0.13.0)\r\n",
      "Requirement already satisfied: async-timeout<5.0,>=4.0.0a3 in /opt/conda/lib/python3.7/site-packages (from aiohttp->openai) (4.0.2)\r\n",
      "Requirement already satisfied: yarl<2.0,>=1.0 in /opt/conda/lib/python3.7/site-packages (from aiohttp->openai) (1.7.2)\r\n",
      "Requirement already satisfied: attrs>=17.3.0 in /opt/conda/lib/python3.7/site-packages (from aiohttp->openai) (22.1.0)\r\n",
      "Requirement already satisfied: frozenlist>=1.1.1 in /opt/conda/lib/python3.7/site-packages (from aiohttp->openai) (1.3.1)\r\n",
      "Requirement already satisfied: aiosignal>=1.1.2 in /opt/conda/lib/python3.7/site-packages (from aiohttp->openai) (1.2.0)\r\n",
      "Requirement already satisfied: multidict<7.0,>=4.5 in /opt/conda/lib/python3.7/site-packages (from aiohttp->openai) (6.0.2)\r\n",
      "Building wheels for collected packages: openai\r\n",
      "  Building wheel for openai (pyproject.toml) ... \u001b[?25l-\b \bdone\r\n",
      "\u001b[?25h  Created wheel for openai: filename=openai-0.26.5-py3-none-any.whl size=67596 sha256=e641ca948149cd5a5a58e0f498918fd28d3f6c7069b645ee57839ede08ca761b\r\n",
      "  Stored in directory: /root/.cache/pip/wheels/71/cc/39/e215726261759bc158d31178f0ff0adab8111cc1b1d2806ce4\r\n",
      "Successfully built openai\r\n",
      "Installing collected packages: openai\r\n",
      "Successfully installed openai-0.26.5\r\n",
      "\u001b[33mWARNING: Running pip as the 'root' user can result in broken permissions and conflicting behaviour with the system package manager. It is recommended to use a virtual environment instead: https://pip.pypa.io/warnings/venv\u001b[0m\u001b[33m\r\n",
      "\u001b[0m"
     ]
    }
   ],
   "source": [
    "!pip install openai"
   ]
  },
  {
   "cell_type": "code",
   "execution_count": 3,
   "id": "086eaad3",
   "metadata": {
    "_cell_guid": "6c263eb1-57dc-4dc0-81a4-fb4c524f2e56",
    "_uuid": "ea603143-2467-4004-b137-ce9a367926e3",
    "collapsed": false,
    "execution": {
     "iopub.execute_input": "2023-02-19T11:43:50.887291Z",
     "iopub.status.busy": "2023-02-19T11:43:50.886829Z",
     "iopub.status.idle": "2023-02-19T11:43:52.872116Z",
     "shell.execute_reply": "2023-02-19T11:43:52.870808Z"
    },
    "jupyter": {
     "outputs_hidden": false
    },
    "papermill": {
     "duration": 1.994003,
     "end_time": "2023-02-19T11:43:52.874914",
     "exception": false,
     "start_time": "2023-02-19T11:43:50.880911",
     "status": "completed"
    },
    "tags": []
   },
   "outputs": [
    {
     "name": "stdout",
     "output_type": "stream",
     "text": [
      "/bin/bash: /opt/conda/lib/libtinfo.so.6: no version information available (required by /bin/bash)\r\n",
      "Cloning into 'openai-quickstart-python'...\r\n",
      "remote: Enumerating objects: 31, done.\u001b[K\r\n",
      "remote: Counting objects: 100% (21/21), done.\u001b[K\r\n",
      "remote: Compressing objects: 100% (16/16), done.\u001b[K\r\n",
      "remote: Total 31 (delta 9), reused 8 (delta 5), pack-reused 10\u001b[K\r\n",
      "Unpacking objects: 100% (31/31), 9.11 KiB | 847.00 KiB/s, done.\r\n"
     ]
    }
   ],
   "source": [
    "!git clone https://github.com/openai/openai-quickstart-python.git"
   ]
  },
  {
   "cell_type": "code",
   "execution_count": null,
   "id": "322c548a",
   "metadata": {
    "_cell_guid": "49493611-83e9-4397-8df3-b56e617e5b25",
    "_uuid": "d901ea3e-7756-425d-b638-0cd1b2db3841",
    "collapsed": false,
    "jupyter": {
     "outputs_hidden": false
    },
    "papermill": {
     "duration": 0.004108,
     "end_time": "2023-02-19T11:43:52.883538",
     "exception": false,
     "start_time": "2023-02-19T11:43:52.879430",
     "status": "completed"
    },
    "tags": []
   },
   "outputs": [],
   "source": []
  }
 ],
 "metadata": {
  "kernelspec": {
   "display_name": "Python 3",
   "language": "python",
   "name": "python3"
  },
  "language_info": {
   "codemirror_mode": {
    "name": "ipython",
    "version": 3
   },
   "file_extension": ".py",
   "mimetype": "text/x-python",
   "name": "python",
   "nbconvert_exporter": "python",
   "pygments_lexer": "ipython3",
   "version": "3.7.12"
  },
  "papermill": {
   "default_parameters": {},
   "duration": 49.044906,
   "end_time": "2023-02-19T11:43:53.610358",
   "environment_variables": {},
   "exception": null,
   "input_path": "__notebook__.ipynb",
   "output_path": "__notebook__.ipynb",
   "parameters": {},
   "start_time": "2023-02-19T11:43:04.565452",
   "version": "2.3.4"
  }
 },
 "nbformat": 4,
 "nbformat_minor": 5
}
